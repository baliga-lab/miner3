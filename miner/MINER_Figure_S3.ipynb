{
 "cells": [
  {
   "cell_type": "markdown",
   "metadata": {},
   "source": [
    "## Import libraries"
   ]
  },
  {
   "cell_type": "code",
   "execution_count": 1,
   "metadata": {},
   "outputs": [
    {
     "name": "stderr",
     "output_type": "stream",
     "text": [
      "/usr/lib/python3/dist-packages/requests/__init__.py:89: RequestsDependencyWarning: urllib3 (1.26.14) or chardet (3.0.4) doesn't match a supported version!\n",
      "  warnings.warn(\"urllib3 ({}) or chardet ({}) doesn't match a supported \"\n"
     ]
    }
   ],
   "source": [
    "import numpy as np\n",
    "import pandas as pd\n",
    "from scipy import stats\n",
    "from numpy import random as rd\n",
    "import os\n",
    "import json\n",
    "from sklearn.decomposition import PCA\n",
    "import multiprocessing, multiprocessing.pool\n",
    "import matplotlib.pyplot as plt\n",
    "import seaborn as sns\n",
    "import time\n",
    "from collections import Counter\n",
    "from sklearn.manifold import TSNE\n",
    "import pickle\n",
    "import numpy as np\n",
    "import pandas as pd\n",
    "from sklearn.model_selection import train_test_split\n",
    "from sklearn.linear_model import Ridge\n",
    "from sklearn.tree import DecisionTreeClassifier\n",
    "from sklearn.ensemble import RandomForestClassifier\n",
    "from sklearn.metrics import accuracy_score\n",
    "from sklearn.metrics import f1_score\n",
    "from sklearn.metrics import roc_auc_score\n",
    "from sklearn import metrics\n",
    "from sklearn import tree\n",
    "import miner\n",
    "%matplotlib inline\n",
    "plt.style.use('ggplot')"
   ]
  },
  {
   "cell_type": "markdown",
   "metadata": {},
   "source": [
    "## Create directory to save output files"
   ]
  },
  {
   "cell_type": "code",
   "execution_count": 2,
   "metadata": {},
   "outputs": [],
   "source": [
    "# Path to the miner directory\n",
    "proj_path = os.path.join(os.path.expanduser('~'),'Projects','miner3')\n",
    "input_path = os.path.join(proj_path, 'miner_mindata')\n",
    "\n",
    "# create name for results folder where output files will be saved\n",
    "resultsFolder = \"results_miner\"\n",
    "\n",
    "# create results directory\n",
    "resultsDirectory = os.path.join(proj_path,resultsFolder)\n",
    "if not os.path.isdir(resultsDirectory):\n",
    "    os.mkdir(resultsDirectory)\n",
    "# name of the folder containing the miner network\n",
    "networkFolder = \"results_minCorrelation_0o2_50_allFiles\"\n",
    "network_path = os.path.join(proj_path, networkFolder)"
   ]
  },
  {
   "cell_type": "markdown",
   "metadata": {},
   "source": [
    "## Load primary data"
   ]
  },
  {
   "cell_type": "code",
   "execution_count": 3,
   "metadata": {},
   "outputs": [
    {
     "name": "stdout",
     "output_type": "stream",
     "text": [
      "completed identifier conversion.\n",
      "16216 genes were converted.\n"
     ]
    }
   ],
   "source": [
    "# Load expression Data\n",
    "expressionFile = os.path.join(input_path, \"expression\",\"IA12Zscore.csv\")\n",
    "id_names = os.path.join(input_path, \"identifier_mappings.txt\")\n",
    "expressionData, conversionTable = miner.preprocess(expressionFile, id_names)\n",
    "\n",
    "# Load mutations\n",
    "common_mutations = pd.read_csv(os.path.join(input_path, 'mutations','commonMutations.csv'),index_col=0,header=0)\n",
    "translocations = pd.read_csv(os.path.join(input_path, 'mutations','translocationsIA12.csv'),index_col=0,header=0)\n",
    "cytogenetics = pd.read_csv(os.path.join(input_path,'mutations','cytogenetics.csv'),index_col=0,header=0)\n",
    "cytogenetics = cytogenetics.loc[:,list(set(cytogenetics.columns)&set(expressionData.columns))]\n",
    "common_patients_mutations_translocations = list(set(translocations.columns)&set(common_mutations.columns))\n",
    "mutation_matrix = pd.concat([common_mutations.loc[:,common_patients_mutations_translocations],translocations.loc[:,common_patients_mutations_translocations]],axis=0)\n",
    "\n",
    "#If previous results exist, use miner.read_json to load them\n",
    "revisedClusters = miner.read_json(os.path.join(network_path, \"coexpressionDictionary.json\"))\n",
    "coexpressionModules = miner.read_json(os.path.join(network_path,\"coexpressionModules.json\"))\n",
    "regulonModules = miner.read_json(os.path.join(network_path, \"regulons.json\"))\n",
    "mechanisticOutput = miner.read_json(os.path.join(network_path, \"mechanisticOutput.json\"))\n",
    "regulonDf = pd.read_csv(os.path.join(network_path, \"regulonDf.csv\"),index_col=0,header=0)\n",
    "overExpressedMembersMatrix = pd.read_csv(os.path.join(network_path, \"overExpressedMembers.csv\"),index_col=0,header=0)\n",
    "overExpressedMembersMatrix.index = np.array(overExpressedMembersMatrix.index).astype(str)\n",
    "underExpressedMembersMatrix = pd.read_csv(os.path.join(network_path, \"underExpressedMembers.csv\"),index_col=0,header=0)\n",
    "underExpressedMembersMatrix.index = np.array(underExpressedMembersMatrix.index).astype(str)\n",
    "eigengenes = pd.read_csv(os.path.join(network_path, \"eigengenes.csv\"),index_col=0,header=0)\n",
    "eigengenes.index = np.array(underExpressedMembersMatrix.index).astype(str)\n",
    "\n",
    "#Load table for converting gene names\n",
    "id_table = pd.read_csv(id_names,sep=\"\\t\")\n",
    "id_table = id_table[id_table[\"Source\"] == \"Gene Name\"]\n",
    "id_table.index = id_table.iloc[:,0]"
   ]
  },
  {
   "cell_type": "markdown",
   "metadata": {},
   "source": [
    "## Load network"
   ]
  },
  {
   "cell_type": "code",
   "execution_count": 4,
   "metadata": {},
   "outputs": [],
   "source": [
    "# Load transcriptional programs\n",
    "transcriptional_programs = miner.read_json(os.path.join(network_path, 'transcriptional_programs.json'))\n",
    "program_list = [transcriptional_programs[str(key)] for key in range(len(transcriptional_programs.keys()))]"
   ]
  },
  {
   "cell_type": "code",
   "execution_count": 5,
   "metadata": {},
   "outputs": [],
   "source": [
    "# Load transcriptional states\n",
    "transcriptional_states = miner.read_json(os.path.join(network_path, 'transcriptional_states.json'))\n",
    "states_list = [transcriptional_states[str(key)] for key in range(len(transcriptional_states.keys()))]\n",
    "final_state = list(set(expressionData.columns)-set(np.hstack(states_list)))\n",
    "if len(final_state)>0:\n",
    "    states_list.append(final_state)\n",
    "states = states_list.copy()\n",
    "diff_matrix_MMRF = overExpressedMembersMatrix-underExpressedMembersMatrix"
   ]
  },
  {
   "cell_type": "markdown",
   "metadata": {},
   "source": [
    "## Load primary survival data"
   ]
  },
  {
   "cell_type": "code",
   "execution_count": 6,
   "metadata": {},
   "outputs": [],
   "source": [
    "# load primary survival data (i.e., corresponding to expression data training set)\n",
    "survivalMMRF = pd.read_csv(os.path.join(input_path,\"survival\",\"survivalIA12.csv\"),index_col=0,header=0)\n",
    "survivalDfMMRF = survivalMMRF.iloc[:,0:2]\n",
    "survivalDfMMRF.columns = [\"duration\",\"observed\"]\n",
    "overExpressedMembersMatrixMMRF = overExpressedMembersMatrix\n",
    "kmDfMMRF = miner.kmAnalysis(survivalDf=survivalDfMMRF,durationCol=\"duration\",statusCol=\"observed\")\n",
    "guanSurvivalDfMMRF= miner.guanRank(kmSurvival=kmDfMMRF)"
   ]
  },
  {
   "cell_type": "markdown",
   "metadata": {},
   "source": [
    "## Define patient populations"
   ]
  },
  {
   "cell_type": "code",
   "execution_count": 7,
   "metadata": {},
   "outputs": [
    {
     "name": "stdout",
     "output_type": "stream",
     "text": [
      "Baseline: 779 First relapse: 56 \n",
      "Any relapse: 102\n"
     ]
    }
   ],
   "source": [
    "baseline_patients = [name for name in expressionData.columns if name.split(\"_\")[2]=='1']\n",
    "relapse_patients = [name for name in expressionData.columns if name.split(\"_\")[2]=='2']\n",
    "all_relapse_patients = [name for name in expressionData.columns if name.split(\"_\")[2]!='1']\n",
    "print('Baseline:',len(baseline_patients),'First relapse:',len(relapse_patients),'\\nAny relapse:',len(all_relapse_patients))"
   ]
  },
  {
   "cell_type": "code",
   "execution_count": 8,
   "metadata": {},
   "outputs": [],
   "source": [
    "import importlib\n",
    "importlib.reload(miner)\n",
    "subtypes_translocations = [\n",
    "    \"RNASeq_CCND1_Call\",\n",
    "    \"RNASeq_WHSC1_Call\",\n",
    "    \"RNASeq_MAF_Call\",\n",
    "    \"RNASeq_MYC_Call\"\n",
    "]\n",
    "\n",
    "subtypes_cytogenetics = [\n",
    "    \"del17\",\n",
    "    \"amp1q\"\n",
    "]\n",
    "\n",
    "patients_by_subtype = []\n",
    "for subtype in subtypes_cytogenetics:\n",
    "    subtype_patients = miner.getMutations(subtype,cytogenetics)\n",
    "    subtype_patients = [name for name in guanSurvivalDfMMRF.index if name in subtype_patients]\n",
    "    subtype_patients.reverse()\n",
    "    patients_by_subtype.append(subtype_patients)\n",
    "\n",
    "for subtype in subtypes_translocations:\n",
    "    subtype_patients = miner.getMutations(subtype,translocations)\n",
    "    subtype_patients = [name for name in guanSurvivalDfMMRF.index if name in subtype_patients]\n",
    "    subtype_patients.reverse()\n",
    "    patients_by_subtype.append(subtype_patients)\n",
    "    \n",
    "remainder = [name for name in guanSurvivalDfMMRF.index if name not in np.hstack(patients_by_subtype)]\n",
    "remainder.reverse()\n",
    "\n",
    "sorted_by_subtype = np.hstack([remainder,np.hstack(patients_by_subtype),relapse_patients])"
   ]
  },
  {
   "cell_type": "markdown",
   "metadata": {},
   "source": [
    "## Infer nework-constrained gene activity"
   ]
  },
  {
   "cell_type": "code",
   "execution_count": 9,
   "metadata": {
    "scrolled": false
   },
   "outputs": [],
   "source": [
    "network_activity_diff = miner.networkActivity(regulon_matrix=regulonDf.copy(),\n",
    "                                                 reference_matrix=diff_matrix_MMRF.copy(),\n",
    "                                                 minRegulons = 2)"
   ]
  },
  {
   "cell_type": "markdown",
   "metadata": {},
   "source": [
    "## Load genes of interest"
   ]
  },
  {
   "cell_type": "code",
   "execution_count": 10,
   "metadata": {},
   "outputs": [],
   "source": [
    "# define genes of interest\n",
    "ccnd1 = \"ENSG00000110092\"\n",
    "noxa = \"ENSG00000141682\"\n",
    "bak = \"ENSG00000030110\""
   ]
  },
  {
   "cell_type": "markdown",
   "metadata": {},
   "source": [
    "## Analyze BCL2 family genes for t(11;14) signature"
   ]
  },
  {
   "cell_type": "code",
   "execution_count": 11,
   "metadata": {},
   "outputs": [],
   "source": [
    "# Generate dataframe with genes related to venetoclax\n",
    "network_activity = network_activity_diff.copy()\n",
    "noxa_over_bak = {'CCND1':np.array(network_activity.loc[ccnd1,:]),\n",
    "                 'NOXA':np.array(network_activity.loc[noxa,:]),\n",
    "                 'BAK':np.array(network_activity.loc[bak,:]),\n",
    "                 'NOXA/BAK':np.array(network_activity.loc[noxa,:])-np.array(network_activity.loc[bak,:]),                 \n",
    "                }\n",
    "noxa_over_bak = pd.DataFrame(noxa_over_bak)\n",
    "noxa_over_bak.index = network_activity.columns\n",
    "\n",
    "# Organize data by subtypes\n",
    "venetoclax_markers = noxa_over_bak.loc[np.hstack(sorted_by_subtype),:]\n",
    "venetoclax_markers = venetoclax_markers.T"
   ]
  },
  {
   "cell_type": "code",
   "execution_count": 12,
   "metadata": {},
   "outputs": [
    {
     "ename": "AttributeError",
     "evalue": "'Series' object has no attribute 'convert_objects'",
     "output_type": "error",
     "traceback": [
      "\u001b[0;31m---------------------------------------------------------------------------\u001b[0m",
      "\u001b[0;31mAttributeError\u001b[0m                            Traceback (most recent call last)",
      "Cell \u001b[0;32mIn[12], line 10\u001b[0m\n\u001b[1;32m      7\u001b[0m labels \u001b[38;5;241m=\u001b[39m [\u001b[38;5;124m\"\u001b[39m\u001b[38;5;124mDel 17\u001b[39m\u001b[38;5;124m\"\u001b[39m,\u001b[38;5;124m\"\u001b[39m\u001b[38;5;124mAmp 1q\u001b[39m\u001b[38;5;124m\"\u001b[39m,\u001b[38;5;124m\"\u001b[39m\u001b[38;5;124mt(11;14)\u001b[39m\u001b[38;5;124m\"\u001b[39m,\u001b[38;5;124m\"\u001b[39m\u001b[38;5;124mt(4;14)\u001b[39m\u001b[38;5;124m\"\u001b[39m,\u001b[38;5;124m\"\u001b[39m\u001b[38;5;124mt(14;16)\u001b[39m\u001b[38;5;124m\"\u001b[39m,\u001b[38;5;124m\"\u001b[39m\u001b[38;5;124mMYC\u001b[39m\u001b[38;5;124m\"\u001b[39m]\n\u001b[1;32m      9\u001b[0m \u001b[38;5;66;03m# Format boxplot data for plotting\u001b[39;00m\n\u001b[0;32m---> 10\u001b[0m formatted_boxplot_data_noxa \u001b[38;5;241m=\u001b[39m \u001b[43mminer\u001b[49m\u001b[38;5;241;43m.\u001b[39;49m\u001b[43mboxplot_figure\u001b[49m\u001b[43m(\u001b[49m\u001b[43mboxplot_data_noxa\u001b[49m\u001b[43m,\u001b[49m\u001b[43mlabels\u001b[49m\u001b[43m)\u001b[49m\n\u001b[1;32m     11\u001b[0m formatted_boxplot_data_bak \u001b[38;5;241m=\u001b[39m miner\u001b[38;5;241m.\u001b[39mboxplot_figure(boxplot_data_bak,labels)\n\u001b[1;32m     12\u001b[0m formatted_boxplot_data_nb \u001b[38;5;241m=\u001b[39m miner\u001b[38;5;241m.\u001b[39mboxplot_figure(boxplot_data_nb,labels)\n",
      "File \u001b[0;32m~/Projects/miner3/miner/miner.py:6648\u001b[0m, in \u001b[0;36mboxplot_figure\u001b[0;34m(boxplot_data, labels)\u001b[0m\n\u001b[1;32m   6646\u001b[0m formatted_boxplot_data \u001b[38;5;241m=\u001b[39m pd\u001b[38;5;241m.\u001b[39mDataFrame(np\u001b[38;5;241m.\u001b[39mvstack([formatted_data,formatted_labels])\u001b[38;5;241m.\u001b[39mT)\n\u001b[1;32m   6647\u001b[0m formatted_boxplot_data\u001b[38;5;241m.\u001b[39mcolumns \u001b[38;5;241m=\u001b[39m [\u001b[38;5;124m\"\u001b[39m\u001b[38;5;124mdata\u001b[39m\u001b[38;5;124m\"\u001b[39m,\u001b[38;5;124m\"\u001b[39m\u001b[38;5;124mlabel\u001b[39m\u001b[38;5;124m\"\u001b[39m]\n\u001b[0;32m-> 6648\u001b[0m formatted_boxplot_data\u001b[38;5;241m.\u001b[39miloc[:,\u001b[38;5;241m0\u001b[39m] \u001b[38;5;241m=\u001b[39m \u001b[43mformatted_boxplot_data\u001b[49m\u001b[38;5;241;43m.\u001b[39;49m\u001b[43miloc\u001b[49m\u001b[43m[\u001b[49m\u001b[43m:\u001b[49m\u001b[43m,\u001b[49m\u001b[38;5;241;43m0\u001b[39;49m\u001b[43m]\u001b[49m\u001b[38;5;241;43m.\u001b[39;49m\u001b[43mconvert_objects\u001b[49m(convert_numeric\u001b[38;5;241m=\u001b[39m\u001b[38;5;28;01mTrue\u001b[39;00m)\n\u001b[1;32m   6650\u001b[0m \u001b[38;5;28;01mreturn\u001b[39;00m formatted_boxplot_data\n",
      "File \u001b[0;32m/usr/local/lib/python3.8/dist-packages/pandas/core/generic.py:5989\u001b[0m, in \u001b[0;36mNDFrame.__getattr__\u001b[0;34m(self, name)\u001b[0m\n\u001b[1;32m   5982\u001b[0m \u001b[38;5;28;01mif\u001b[39;00m (\n\u001b[1;32m   5983\u001b[0m     name \u001b[38;5;129;01mnot\u001b[39;00m \u001b[38;5;129;01min\u001b[39;00m \u001b[38;5;28mself\u001b[39m\u001b[38;5;241m.\u001b[39m_internal_names_set\n\u001b[1;32m   5984\u001b[0m     \u001b[38;5;129;01mand\u001b[39;00m name \u001b[38;5;129;01mnot\u001b[39;00m \u001b[38;5;129;01min\u001b[39;00m \u001b[38;5;28mself\u001b[39m\u001b[38;5;241m.\u001b[39m_metadata\n\u001b[1;32m   5985\u001b[0m     \u001b[38;5;129;01mand\u001b[39;00m name \u001b[38;5;129;01mnot\u001b[39;00m \u001b[38;5;129;01min\u001b[39;00m \u001b[38;5;28mself\u001b[39m\u001b[38;5;241m.\u001b[39m_accessors\n\u001b[1;32m   5986\u001b[0m     \u001b[38;5;129;01mand\u001b[39;00m \u001b[38;5;28mself\u001b[39m\u001b[38;5;241m.\u001b[39m_info_axis\u001b[38;5;241m.\u001b[39m_can_hold_identifiers_and_holds_name(name)\n\u001b[1;32m   5987\u001b[0m ):\n\u001b[1;32m   5988\u001b[0m     \u001b[38;5;28;01mreturn\u001b[39;00m \u001b[38;5;28mself\u001b[39m[name]\n\u001b[0;32m-> 5989\u001b[0m \u001b[38;5;28;01mreturn\u001b[39;00m \u001b[38;5;28;43mobject\u001b[39;49m\u001b[38;5;241;43m.\u001b[39;49m\u001b[38;5;21;43m__getattribute__\u001b[39;49m\u001b[43m(\u001b[49m\u001b[38;5;28;43mself\u001b[39;49m\u001b[43m,\u001b[49m\u001b[43m \u001b[49m\u001b[43mname\u001b[49m\u001b[43m)\u001b[49m\n",
      "\u001b[0;31mAttributeError\u001b[0m: 'Series' object has no attribute 'convert_objects'"
     ]
    }
   ],
   "source": [
    "# Generate boxplot data\n",
    "boxplot_data_noxa = [noxa_over_bak.loc[subtype,'NOXA'] for subtype in patients_by_subtype]\n",
    "boxplot_data_bak = [noxa_over_bak.loc[subtype,'BAK'] for subtype in patients_by_subtype]\n",
    "boxplot_data_nb = [noxa_over_bak.loc[subtype,'NOXA/BAK'] for subtype in patients_by_subtype]\n",
    "\n",
    "# Define labels for subtypes in boxplot data\n",
    "labels = [\"Del 17\",\"Amp 1q\",\"t(11;14)\",\"t(4;14)\",\"t(14;16)\",\"MYC\"]\n",
    "\n",
    "# Format boxplot data for plotting\n",
    "# WW: error leads to attribute error that attribute convert_objects does not exist on Series.\n",
    "# which is correct, because it is an attribute of DataFrame, we need to check what is wrong here\n",
    "formatted_boxplot_data_noxa = miner.boxplot_figure(boxplot_data_noxa,labels)\n",
    "formatted_boxplot_data_bak = miner.boxplot_figure(boxplot_data_bak,labels)\n",
    "formatted_boxplot_data_nb = miner.boxplot_figure(boxplot_data_nb,labels)"
   ]
  },
  {
   "cell_type": "code",
   "execution_count": 13,
   "metadata": {},
   "outputs": [
    {
     "ename": "NameError",
     "evalue": "name 'formatted_boxplot_data_noxa' is not defined",
     "output_type": "error",
     "traceback": [
      "\u001b[0;31m---------------------------------------------------------------------------\u001b[0m",
      "\u001b[0;31mNameError\u001b[0m                                 Traceback (most recent call last)",
      "Cell \u001b[0;32mIn[13], line 1\u001b[0m\n\u001b[0;32m----> 1\u001b[0m boxplots \u001b[38;5;241m=\u001b[39m [\u001b[43mformatted_boxplot_data_noxa\u001b[49m,\n\u001b[1;32m      2\u001b[0m             formatted_boxplot_data_bak,\n\u001b[1;32m      3\u001b[0m             formatted_boxplot_data_nb\n\u001b[1;32m      4\u001b[0m            ]\n\u001b[1;32m      6\u001b[0m boxplots_labels \u001b[38;5;241m=\u001b[39m [\u001b[38;5;124m\"\u001b[39m\u001b[38;5;124mNOXA\u001b[39m\u001b[38;5;124m\"\u001b[39m,\u001b[38;5;124m\"\u001b[39m\u001b[38;5;124mBAK\u001b[39m\u001b[38;5;124m\"\u001b[39m,\u001b[38;5;124m\"\u001b[39m\u001b[38;5;124mNOXA / BAK\u001b[39m\u001b[38;5;124m\"\u001b[39m]\n\u001b[1;32m      8\u001b[0m \u001b[38;5;66;03m# Set plot style\u001b[39;00m\n",
      "\u001b[0;31mNameError\u001b[0m: name 'formatted_boxplot_data_noxa' is not defined"
     ]
    }
   ],
   "source": [
    "boxplots = [formatted_boxplot_data_noxa,\n",
    "            formatted_boxplot_data_bak,\n",
    "            formatted_boxplot_data_nb\n",
    "           ]\n",
    "\n",
    "boxplots_labels = [\"NOXA\",\"BAK\",\"NOXA / BAK\"]\n",
    "\n",
    "# Set plot style\n",
    "sns.set(font_scale=1.5,style=\"whitegrid\")\n",
    "# Instantiate figure\n",
    "fig = plt.figure(constrained_layout=True,figsize=(16,12))\n",
    "\n",
    "# Set figure axes\n",
    "num_plots = 4\n",
    "gs = fig.add_gridspec(num_plots, 1)\n",
    "\n",
    "for b in range(num_plots-1):\n",
    "    # Fill first subplot\n",
    "    fig.add_subplot(gs[b,0])\n",
    "    # Plot the orbital period with horizontal boxes\n",
    "    sns.boxplot(x=\"label\", y=\"data\", data=boxplots[b],fliersize=0)\n",
    "    # Add in points to show each observation\n",
    "    sns.swarmplot(x=\"label\", y=\"data\", data=boxplots[b],\n",
    "                  size=5, color=\".3\", linewidth=0)\n",
    "    plt.ylabel(boxplots_labels[b])\n",
    "    plt.xlabel(\"\")\n",
    "\n",
    "ax = fig.add_subplot(gs[num_plots-1, 0])\n",
    "sns.heatmap(venetoclax_markers,cmap = \"Oranges\",square=False)\n",
    "ax.set_yticklabels(labels = venetoclax_markers.index,rotation=0)\n",
    "ax.set_xticklabels(labels=\"\",FontSize=0)\n",
    "ax.tick_params(axis='both', which='both', length=0)\n",
    "\n",
    "plt.savefig(os.path.join(resultsDirectory,\"t(11;14)_BCL2_genes_figure.pdf\"),bbox_inches=\"tight\")"
   ]
  },
  {
   "cell_type": "code",
   "execution_count": null,
   "metadata": {},
   "outputs": [],
   "source": []
  }
 ],
 "metadata": {
  "kernelspec": {
   "display_name": "Python 3 (ipykernel)",
   "language": "python",
   "name": "python3"
  },
  "language_info": {
   "codemirror_mode": {
    "name": "ipython",
    "version": 3
   },
   "file_extension": ".py",
   "mimetype": "text/x-python",
   "name": "python",
   "nbconvert_exporter": "python",
   "pygments_lexer": "ipython3",
   "version": "3.8.10"
  }
 },
 "nbformat": 4,
 "nbformat_minor": 2
}
