{
 "cells": [
  {
   "cell_type": "markdown",
   "metadata": {},
   "source": [
    "## Import libraries"
   ]
  },
  {
   "cell_type": "code",
   "execution_count": 1,
   "metadata": {},
   "outputs": [],
   "source": [
    "import numpy as np\n",
    "import pandas as pd\n",
    "from scipy import stats\n",
    "from numpy import random as rd\n",
    "import os\n",
    "import json\n",
    "from sklearn.decomposition import PCA\n",
    "import multiprocessing, multiprocessing.pool\n",
    "import matplotlib.pyplot as plt\n",
    "import seaborn as sns\n",
    "import time\n",
    "from collections import Counter\n",
    "from sklearn.manifold import TSNE\n",
    "import pickle\n",
    "import numpy as np\n",
    "import pandas as pd\n",
    "from sklearn.model_selection import train_test_split\n",
    "from sklearn.linear_model import Ridge\n",
    "from sklearn.tree import DecisionTreeClassifier\n",
    "from sklearn.ensemble import RandomForestClassifier\n",
    "from sklearn.metrics import accuracy_score\n",
    "from sklearn.metrics import f1_score\n",
    "from sklearn.metrics import roc_auc_score\n",
    "from sklearn import metrics\n",
    "from sklearn import tree\n",
    "import miner\n",
    "%matplotlib inline\n",
    "plt.style.use('ggplot')"
   ]
  },
  {
   "cell_type": "markdown",
   "metadata": {},
   "source": [
    "## Create directory to save output files"
   ]
  },
  {
   "cell_type": "code",
   "execution_count": 2,
   "metadata": {},
   "outputs": [],
   "source": [
    "# Path to the miner directory\n",
    "BASE_PATH = os.path.join(os.path.expanduser('~'),'Projects',\n",
    "                         'ISB','miner3')\n",
    "\n",
    "DATA_PATH = os.path.join(os.path.expanduser('~'), 'Projects',\n",
    "                         'ISB', 'baliga-miner2', 'MATTDATA')\n",
    "\n",
    "# create name for results folder where output files will be saved\n",
    "RESULTS_FOLDER = \"results_miner3_stabilized\"\n",
    "\n",
    "# name of the folder containing the miner network\n",
    "#networkFolder = \"results_minCorrelation_0o2_50_allFiles\"\n",
    "NETWORK_PATH = os.path.join(os.path.expanduser('~'), 'Projects',\n",
    "                            'ISB', 'baliga-miner2', 'MATTRESULT')\n",
    "\n",
    "# create results directory\n",
    "RESULTS_DIR = os.path.join(BASE_PATH, RESULTS_FOLDER)\n",
    "if not os.path.isdir(RESULTS_DIR):\n",
    "    os.mkdir(RESULTS_DIR)"
   ]
  },
  {
   "cell_type": "markdown",
   "metadata": {},
   "source": [
    "## Load primary data"
   ]
  },
  {
   "cell_type": "code",
   "execution_count": 4,
   "metadata": {},
   "outputs": [
    {
     "name": "stdout",
     "output_type": "stream",
     "text": [
      "completed identifier conversion.\n",
      "16216 genes were converted.\n"
     ]
    }
   ],
   "source": [
    "# Load expression Data\n",
    "expressionFile = os.path.join(DATA_PATH,\"expression\",\"IA12Zscore.csv\")\n",
    "mapfile = os.path.join(DATA_PATH, 'identifier_mappings.txt')\n",
    "expressionData, conversionTable = miner.preprocess(expressionFile,\n",
    "                                                   mapfile)\n",
    "\n",
    "# Load mutations\n",
    "common_mutations = pd.read_csv(os.path.join(DATA_PATH,'mutations','commonMutations.csv'),index_col=0,header=0)\n",
    "translocations = pd.read_csv(os.path.join(DATA_PATH,'mutations','translocationsIA12.csv'),index_col=0,header=0)\n",
    "cytogenetics = pd.read_csv(os.path.join(DATA_PATH,'mutations','cytogenetics.csv'),index_col=0,header=0)\n",
    "cytogenetics = cytogenetics.loc[:,list(set(cytogenetics.columns)&set(expressionData.columns))]\n",
    "common_patients_mutations_translocations = list(set(translocations.columns)&set(common_mutations.columns))\n",
    "mutation_matrix = pd.concat([common_mutations.loc[:,common_patients_mutations_translocations],translocations.loc[:,common_patients_mutations_translocations]],axis=0)\n",
    "\n",
    "#If previous results exist, use miner.read_json to load them\n",
    "revisedClusters = miner.read_json(os.path.join(NETWORK_PATH,\"coexpressionDictionary.json\"))\n",
    "coexpressionModules = miner.read_json(os.path.join(NETWORK_PATH,\"coexpressionModules.json\"))\n",
    "regulonModules = miner.read_json(os.path.join(NETWORK_PATH,\"regulons.json\"))\n",
    "mechanisticOutput = miner.read_json(os.path.join(NETWORK_PATH,\"mechanisticOutput.json\"))\n",
    "regulonDf = pd.read_csv(os.path.join(NETWORK_PATH,\"regulonDf.csv\"),index_col=0,header=0)\n",
    "overExpressedMembersMatrix = pd.read_csv(os.path.join(NETWORK_PATH,\"overExpressedMembers.csv\"),index_col=0,header=0)\n",
    "overExpressedMembersMatrix.index = np.array(overExpressedMembersMatrix.index).astype(str)\n",
    "underExpressedMembersMatrix = pd.read_csv(os.path.join(NETWORK_PATH,\"underExpressedMembers.csv\"),index_col=0,header=0)\n",
    "underExpressedMembersMatrix.index = np.array(underExpressedMembersMatrix.index).astype(str)\n",
    "eigengenes = pd.read_csv(os.path.join(NETWORK_PATH,\"eigengenes.csv\"),index_col=0,header=0)\n",
    "eigengenes.index = np.array(underExpressedMembersMatrix.index).astype(str)\n",
    "\n",
    "#Load table for converting gene names\n",
    "id_table = pd.read_csv(mapfile,sep=\"\\t\")\n",
    "id_table = id_table[id_table[\"Source\"] == \"Gene Name\"]\n",
    "id_table.index = id_table.iloc[:,0]"
   ]
  },
  {
   "cell_type": "markdown",
   "metadata": {},
   "source": [
    "## Load network"
   ]
  },
  {
   "cell_type": "code",
   "execution_count": 5,
   "metadata": {},
   "outputs": [],
   "source": [
    "# Load transcriptional programs\n",
    "transcriptional_programs = miner.read_json(os.path.join(NETWORK_PATH,'transcriptional_programs.json'))\n",
    "program_list = [transcriptional_programs[str(key)] for key in range(len(transcriptional_programs.keys()))]"
   ]
  },
  {
   "cell_type": "code",
   "execution_count": 6,
   "metadata": {},
   "outputs": [],
   "source": [
    "# Load transcriptional states\n",
    "transcriptional_states = miner.read_json(os.path.join(NETWORK_PATH,'transcriptional_states.json'))\n",
    "states_list = [transcriptional_states[str(key)] for key in range(len(transcriptional_states.keys()))]\n",
    "final_state = list(set(expressionData.columns)-set(np.hstack(states_list)))\n",
    "if len(final_state)>0:\n",
    "    states_list.append(final_state)\n",
    "states = states_list.copy()\n",
    "diff_matrix_MMRF = overExpressedMembersMatrix-underExpressedMembersMatrix"
   ]
  },
  {
   "cell_type": "markdown",
   "metadata": {},
   "source": [
    "## Load primary survival data"
   ]
  },
  {
   "cell_type": "code",
   "execution_count": 7,
   "metadata": {},
   "outputs": [],
   "source": [
    "# load primary survival data (i.e., corresponding to expression data training set)\n",
    "survivalMMRF = pd.read_csv(os.path.join(DATA_PATH,\"survival\",\"survivalIA12.csv\"),index_col=0,header=0)\n",
    "survivalDfMMRF = survivalMMRF.iloc[:,0:2]\n",
    "survivalDfMMRF.columns = [\"duration\",\"observed\"]\n",
    "overExpressedMembersMatrixMMRF = overExpressedMembersMatrix\n",
    "kmDfMMRF = miner.kmAnalysis(survivalDf=survivalDfMMRF,durationCol=\"duration\",statusCol=\"observed\")\n",
    "guanSurvivalDfMMRF= miner.guanRank(kmSurvival=kmDfMMRF)"
   ]
  },
  {
   "cell_type": "markdown",
   "metadata": {},
   "source": [
    "## Define patient populations"
   ]
  },
  {
   "cell_type": "code",
   "execution_count": 8,
   "metadata": {},
   "outputs": [
    {
     "name": "stdout",
     "output_type": "stream",
     "text": [
      "Baseline: 779 First relapse: 56 \n",
      "Any relapse: 102\n"
     ]
    }
   ],
   "source": [
    "baseline_patients = [name for name in expressionData.columns if name.split(\"_\")[2]=='1']\n",
    "relapse_patients = [name for name in expressionData.columns if name.split(\"_\")[2]=='2']\n",
    "all_relapse_patients = [name for name in expressionData.columns if name.split(\"_\")[2]!='1']\n",
    "print('Baseline:',len(baseline_patients),'First relapse:',len(relapse_patients),'\\nAny relapse:',len(all_relapse_patients))"
   ]
  },
  {
   "cell_type": "code",
   "execution_count": 9,
   "metadata": {},
   "outputs": [],
   "source": [
    "subtypes_translocations = [\n",
    "    \"RNASeq_CCND1_Call\",\n",
    "    \"RNASeq_WHSC1_Call\",\n",
    "    \"RNASeq_MAF_Call\",\n",
    "    \"RNASeq_MYC_Call\"\n",
    "]\n",
    "\n",
    "subtypes_cytogenetics = [\n",
    "    \"del17\",\n",
    "    \"amp1q\"\n",
    "]\n",
    "\n",
    "patients_by_subtype = []\n",
    "for subtype in subtypes_cytogenetics:\n",
    "    subtype_patients = miner.getMutations(subtype,cytogenetics)\n",
    "    subtype_patients = [name for name in guanSurvivalDfMMRF.index if name in subtype_patients]\n",
    "    subtype_patients.reverse()\n",
    "    patients_by_subtype.append(subtype_patients)\n",
    "\n",
    "for subtype in subtypes_translocations:\n",
    "    subtype_patients = miner.getMutations(subtype,translocations)\n",
    "    subtype_patients = [name for name in guanSurvivalDfMMRF.index if name in subtype_patients]\n",
    "    subtype_patients.reverse()\n",
    "    patients_by_subtype.append(subtype_patients)\n",
    "    \n",
    "remainder = [name for name in guanSurvivalDfMMRF.index if name not in np.hstack(patients_by_subtype)]\n",
    "remainder.reverse()\n",
    "\n",
    "sorted_by_subtype = np.hstack([remainder,np.hstack(patients_by_subtype),relapse_patients])"
   ]
  },
  {
   "cell_type": "markdown",
   "metadata": {},
   "source": [
    "## Infer nework-constrained gene activity"
   ]
  },
  {
   "cell_type": "code",
   "execution_count": 10,
   "metadata": {
    "scrolled": false
   },
   "outputs": [],
   "source": [
    "network_activity_overexpressed = miner.networkActivity(regulon_matrix=regulonDf.copy(),\n",
    "                                                 reference_matrix=overExpressedMembersMatrix.copy(),\n",
    "                                                 minRegulons = 2)\n",
    "network_activity_underexpressed = miner.networkActivity(regulon_matrix=regulonDf.copy(),\n",
    "                                                 reference_matrix=underExpressedMembersMatrix.copy(),\n",
    "                                                 minRegulons = 2)\n",
    "network_activity_diff = miner.networkActivity(regulon_matrix=regulonDf.copy(),\n",
    "                                                 reference_matrix=diff_matrix_MMRF.copy(),\n",
    "                                                 minRegulons = 2)"
   ]
  },
  {
   "cell_type": "markdown",
   "metadata": {},
   "source": [
    "## Load genes of interest"
   ]
  },
  {
   "cell_type": "code",
   "execution_count": 11,
   "metadata": {},
   "outputs": [],
   "source": [
    "# define genes of interest\n",
    "crbn = \"ENSG00000113851\"\n",
    "ikzf1 = \"ENSG00000185811\"\n",
    "ikzf3 = \"ENSG00000161405\"\n",
    "nr3c1 = \"ENSG00000113580\"\n",
    "psmb5 = \"ENSG00000100804\"\n",
    "\n",
    "baseline_targets = [\n",
    "    crbn,\n",
    "    ikzf1,\n",
    "    ikzf3,\n",
    "    nr3c1,\n",
    "    psmb5\n",
    "]\n",
    "\n",
    "hdac6 = \"ENSG00000094631\"\n",
    "aph1a = \"ENSG00000117362\"\n",
    "parp1 = \"ENSG00000143799\"\n",
    "kif11 = \"ENSG00000138160\"\n",
    "gsk3b = \"ENSG00000082701\"\n",
    "aurka = \"ENSG00000087586\"\n",
    "aurkb = \"ENSG00000178999\"\n",
    "hdac2 = \"ENSG00000196591\"\n",
    "anpep = \"ENSG00000166825\"\n",
    "\n",
    "pipeline_targets = [\n",
    "    hdac6,\n",
    "    aph1a,\n",
    "    parp1,\n",
    "    kif11,\n",
    "    gsk3b,\n",
    "    aurka,\n",
    "    aurkb,\n",
    "    hdac2,\n",
    "    anpep,\n",
    "]\n",
    "\n",
    "ranbp1 = \"ENSG00000099901\"\n",
    "parpbp = \"ENSG00000185480\"\n",
    "ago1 = \"ENSG00000092847\"\n",
    "atf6 = \"ENSG00000118217\"\n",
    "tsen15 = \"ENSG00000198860\"\n",
    "nek7 = \"ENSG00000151414\"\n",
    "birc3 = \"ENSG00000023445\"\n",
    "lair1 = \"ENSG00000278154\"\n",
    "lcp1 = \"ENSG00000136167\"\n",
    "dnajc9 = \"ENSG00000213551\"\n",
    "nasp = \"ENSG00000132780\"\n",
    "romo1 = \"ENSG00000125995\"\n",
    "lsm1 = \"ENSG00000175324\"\n",
    "bcl6 = \"ENSG00000113916\"\n",
    "\n",
    "novel_targets = [\n",
    "    ranbp1,\n",
    "    parpbp,\n",
    "    ago1,\n",
    "    atf6,\n",
    "    tsen15,\n",
    "    nek7,\n",
    "    birc3,\n",
    "    lair1,\n",
    "    lcp1,\n",
    "    dnajc9,\n",
    "    nasp,\n",
    "    romo1,\n",
    "    lsm1,\n",
    "    bcl6\n",
    "]\n",
    "\n",
    "puma = \"ENSG00000105327\"\n",
    "bim = \"ENSG00000153094\"\n",
    "noxa = \"ENSG00000141682\"\n",
    "bak = \"ENSG00000030110\"\n",
    "bcl2a1 = \"ENSG00000140379\"\n",
    "bcl2 = \"ENSG00000171791\"\n",
    "mcl1 = \"ENSG00000143384\"\n",
    "\n",
    "anti_apoptotic_genes = [\n",
    "    bcl2,\n",
    "    mcl1,\n",
    "    bcl2a1\n",
    "]\n",
    "\n",
    "pro_apoptotic_genes = [\n",
    "    puma,\n",
    "    bim,\n",
    "    noxa,\n",
    "    bak\n",
    "]\n",
    "\n",
    "apoptosis_genes = np.concatenate([pro_apoptotic_genes,anti_apoptotic_genes])\n"
   ]
  },
  {
   "cell_type": "markdown",
   "metadata": {},
   "source": [
    "## Network activity of drug targets"
   ]
  },
  {
   "cell_type": "code",
   "execution_count": 12,
   "metadata": {},
   "outputs": [],
   "source": [
    "features_list = [baseline_targets,\n",
    "                pipeline_targets,\n",
    "                novel_targets,\n",
    "                apoptosis_genes\n",
    "                ]\n",
    "data_df = network_activity_overexpressed.copy()\n",
    "sort_df = guanSurvivalDfMMRF.copy()\n",
    "sort_column = \"GuanScore\"\n",
    "breaks = 10\n",
    "\n",
    "stitched_list = []\n",
    "for features in features_list: \n",
    "\n",
    "    subtype = \"del17\"\n",
    "    samples = miner.getMutations(subtype,cytogenetics) \n",
    "    del17_subsets = miner.sortedHeatmap(features,samples,data_df,sort_df,sort_column,num_breaks=breaks)\n",
    "\n",
    "    subtype = \"amp1q\"\n",
    "    samples = miner.getMutations(subtype,cytogenetics) \n",
    "    amp1q_subsets = miner.sortedHeatmap(features,samples,data_df,sort_df,sort_column,num_breaks=breaks)\n",
    "\n",
    "    subtype = \"RNASeq_CCND1_Call\"\n",
    "    samples = miner.getMutations(subtype,translocations) \n",
    "    ccnd1_subsets = miner.sortedHeatmap(features,samples,data_df,sort_df,sort_column,num_breaks=breaks)\n",
    "\n",
    "    subtype = \"RNASeq_WHSC1_Call\"\n",
    "    samples = miner.getMutations(subtype,translocations) \n",
    "    nsd2_subsets = miner.sortedHeatmap(features,samples,data_df,sort_df,sort_column,num_breaks=breaks)\n",
    "\n",
    "    subtype = \"RNASeq_MAF_Call\"\n",
    "    samples = miner.getMutations(subtype,translocations) \n",
    "    maf_subsets = miner.sortedHeatmap(features,samples,data_df,sort_df,sort_column,num_breaks=breaks)\n",
    "\n",
    "    subtype = \"RNASeq_MYC_Call\"\n",
    "    samples = miner.getMutations(subtype,translocations) \n",
    "    myc_subsets = miner.sortedHeatmap(features,samples,data_df,sort_df,sort_column,num_breaks=breaks)\n",
    "\n",
    "    samples = remainder \n",
    "    remainder_subsets = miner.sortedHeatmap(features,samples,data_df,sort_df,sort_column,num_breaks=breaks)\n",
    "\n",
    "    samples = relapse_patients \n",
    "    relapse_subsets = miner.sortedHeatmap(features,samples,data_df,sort_df,sort_column,num_breaks=breaks,override=True)\n",
    "\n",
    "    heatmap_list = [remainder_subsets,\n",
    "                    del17_subsets,\n",
    "                    amp1q_subsets,\n",
    "                    ccnd1_subsets,\n",
    "                    nsd2_subsets,\n",
    "                    maf_subsets,\n",
    "                    myc_subsets,\n",
    "                    relapse_subsets\n",
    "                   ]\n",
    "\n",
    "\n",
    "    stitched_map = miner.stitchHeatmaps(heatmap_list)\n",
    "    stitched_list.append(stitched_map)\n",
    "    \n",
    "    "
   ]
  },
  {
   "cell_type": "markdown",
   "metadata": {},
   "source": [
    "## Stitch drug target network activities into heatmap"
   ]
  },
  {
   "cell_type": "code",
   "execution_count": 13,
   "metadata": {},
   "outputs": [
    {
     "data": {
      "image/png": "[encoded data removed]",
      "text/plain": [
       "<Figure size 1152x864 with 8 Axes>"
      ]
     },
     "metadata": {
      "needs_background": "light"
     },
     "output_type": "display_data"
    }
   ],
   "source": [
    "# Assign color maps for composite figure\n",
    "cmaps = [\"Blues\",\"Purples\",\"Oranges\",\"Reds\"]\n",
    "# Generate composite figure\n",
    "miner.composite_figure_4(stitched_list,cmaps,id_table=id_table,\n",
    "                         results_directory=RESULTS_DIR)"
   ]
  },
  {
   "cell_type": "code",
   "execution_count": null,
   "metadata": {},
   "outputs": [],
   "source": []
  }
 ],
 "metadata": {
  "kernelspec": {
   "display_name": "Python 3",
   "language": "python",
   "name": "python3"
  },
  "language_info": {
   "codemirror_mode": {
    "name": "ipython",
    "version": 3
   },
   "file_extension": ".py",
   "mimetype": "text/x-python",
   "name": "python",
   "nbconvert_exporter": "python",
   "pygments_lexer": "ipython3",
   "version": "3.6.9"
  }
 },
 "nbformat": 4,
 "nbformat_minor": 2
}
